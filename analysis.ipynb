{
 "cells": [
  {
   "cell_type": "code",
   "execution_count": 43,
   "metadata": {},
   "outputs": [],
   "source": [
    "import pandas as pd\n",
    "from pandas.io.json import json_normalize\n",
    "import numpy as np\n",
    "\n",
    "from urllib.request import urlopen\n",
    "import json\n",
    "\n",
    "import os.path\n"
   ]
  },
  {
   "attachments": {},
   "cell_type": "markdown",
   "metadata": {},
   "source": [
    "# Lotto 다음 회차 예측 프로그램\n",
    "- 인공지능 분석 통한 로또 당첨 번호 예측\n",
    "- 매주 월요일 진행하도록 크롬 작업 진행\n",
    "    * 첫 시작 / 추가 진행 두 파트로 프로그램 진행되도록 코딩"
   ]
  },
  {
   "attachments": {},
   "cell_type": "markdown",
   "metadata": {},
   "source": [
    "### 1. API 통해 회차별 당첨번호\n",
    "- returnValue : 요청결과\n",
    "- totsellamnt : 총상금액\n",
    "- drwNoDate : 날짜\n",
    "- firstWinamnt : 1등 상금액\n",
    "- firstPrzwnerCo : 1등 당첨자 수\n",
    "- drwNo : 로또회차\n",
    "- drwNo1 - 6 : 당첨번호 1 - 6\n",
    "- bnusNo : 보너스 번호"
   ]
  },
  {
   "cell_type": "code",
   "execution_count": 40,
   "metadata": {},
   "outputs": [
    {
     "data": {
      "text/plain": [
       "<http.client.HTTPResponse at 0x1076f31c0>"
      ]
     },
     "execution_count": 40,
     "metadata": {},
     "output_type": "execute_result"
    }
   ],
   "source": [
    "#url = https://www.dhlottery.co.kr/common.do?method=getLottoNumber&drwNo={회차}\n",
    "\n",
    "response = urlopen(\"https://www.dhlottery.co.kr/common.do?method=getLottoNumber&drwNo=1-1\")\n",
    "response"
   ]
  },
  {
   "cell_type": "code",
   "execution_count": 41,
   "metadata": {},
   "outputs": [
    {
     "data": {
      "text/plain": [
       "{'returnValue': 'fail'}"
      ]
     },
     "execution_count": 41,
     "metadata": {},
     "output_type": "execute_result"
    }
   ],
   "source": [
    "decode = response.read().decode(\"utf-8\")\n",
    "data_json = json.loads(decode)\n",
    "data_json"
   ]
  },
  {
   "cell_type": "code",
   "execution_count": 37,
   "metadata": {},
   "outputs": [
    {
     "data": {
      "text/plain": [
       "dict_values([3681782000, 'success', '2002-12-07', 0, 40, 33, 0, 37, 16, 863604600, 1, 23, 29, 10])"
      ]
     },
     "execution_count": 37,
     "metadata": {},
     "output_type": "execute_result"
    }
   ],
   "source": [
    "data_json.values()"
   ]
  },
  {
   "cell_type": "code",
   "execution_count": 38,
   "metadata": {},
   "outputs": [
    {
     "data": {
      "text/plain": [
       "dict_keys(['totSellamnt', 'returnValue', 'drwNoDate', 'firstWinamnt', 'drwtNo6', 'drwtNo4', 'firstPrzwnerCo', 'drwtNo5', 'bnusNo', 'firstAccumamnt', 'drwNo', 'drwtNo2', 'drwtNo3', 'drwtNo1'])"
      ]
     },
     "execution_count": 38,
     "metadata": {},
     "output_type": "execute_result"
    }
   ],
   "source": [
    "data_json.keys()"
   ]
  },
  {
   "cell_type": "code",
   "execution_count": 39,
   "metadata": {},
   "outputs": [
    {
     "name": "stderr",
     "output_type": "stream",
     "text": [
      "/var/folders/dx/ny9cjsmd1bb3r42zbp694xkh0000gn/T/ipykernel_1824/2632362630.py:1: FutureWarning: pandas.io.json.json_normalize is deprecated, use pandas.json_normalize instead\n",
      "  df = json_normalize(data_json)\n"
     ]
    },
    {
     "data": {
      "text/html": [
       "<div>\n",
       "<style scoped>\n",
       "    .dataframe tbody tr th:only-of-type {\n",
       "        vertical-align: middle;\n",
       "    }\n",
       "\n",
       "    .dataframe tbody tr th {\n",
       "        vertical-align: top;\n",
       "    }\n",
       "\n",
       "    .dataframe thead th {\n",
       "        text-align: right;\n",
       "    }\n",
       "</style>\n",
       "<table border=\"1\" class=\"dataframe\">\n",
       "  <thead>\n",
       "    <tr style=\"text-align: right;\">\n",
       "      <th></th>\n",
       "      <th>totSellamnt</th>\n",
       "      <th>returnValue</th>\n",
       "      <th>drwNoDate</th>\n",
       "      <th>firstWinamnt</th>\n",
       "      <th>drwtNo6</th>\n",
       "      <th>drwtNo4</th>\n",
       "      <th>firstPrzwnerCo</th>\n",
       "      <th>drwtNo5</th>\n",
       "      <th>bnusNo</th>\n",
       "      <th>firstAccumamnt</th>\n",
       "      <th>drwNo</th>\n",
       "      <th>drwtNo2</th>\n",
       "      <th>drwtNo3</th>\n",
       "      <th>drwtNo1</th>\n",
       "    </tr>\n",
       "  </thead>\n",
       "  <tbody>\n",
       "    <tr>\n",
       "      <th>0</th>\n",
       "      <td>3681782000</td>\n",
       "      <td>success</td>\n",
       "      <td>2002-12-07</td>\n",
       "      <td>0</td>\n",
       "      <td>40</td>\n",
       "      <td>33</td>\n",
       "      <td>0</td>\n",
       "      <td>37</td>\n",
       "      <td>16</td>\n",
       "      <td>863604600</td>\n",
       "      <td>1</td>\n",
       "      <td>23</td>\n",
       "      <td>29</td>\n",
       "      <td>10</td>\n",
       "    </tr>\n",
       "  </tbody>\n",
       "</table>\n",
       "</div>"
      ],
      "text/plain": [
       "   totSellamnt returnValue   drwNoDate  firstWinamnt  drwtNo6  drwtNo4  \\\n",
       "0   3681782000     success  2002-12-07             0       40       33   \n",
       "\n",
       "   firstPrzwnerCo  drwtNo5  bnusNo  firstAccumamnt  drwNo  drwtNo2  drwtNo3  \\\n",
       "0               0       37      16       863604600      1       23       29   \n",
       "\n",
       "   drwtNo1  \n",
       "0       10  "
      ]
     },
     "execution_count": 39,
     "metadata": {},
     "output_type": "execute_result"
    }
   ],
   "source": [
    "df = json_normalize(data_json)\n",
    "df"
   ]
  },
  {
   "cell_type": "code",
   "execution_count": 30,
   "metadata": {},
   "outputs": [
    {
     "name": "stderr",
     "output_type": "stream",
     "text": [
      "/var/folders/dx/ny9cjsmd1bb3r42zbp694xkh0000gn/T/ipykernel_1824/2503244167.py:5: FutureWarning: pandas.io.json.json_normalize is deprecated, use pandas.json_normalize instead\n",
      "  df2 = json_normalize(data_json2)\n"
     ]
    },
    {
     "data": {
      "text/html": [
       "<div>\n",
       "<style scoped>\n",
       "    .dataframe tbody tr th:only-of-type {\n",
       "        vertical-align: middle;\n",
       "    }\n",
       "\n",
       "    .dataframe tbody tr th {\n",
       "        vertical-align: top;\n",
       "    }\n",
       "\n",
       "    .dataframe thead th {\n",
       "        text-align: right;\n",
       "    }\n",
       "</style>\n",
       "<table border=\"1\" class=\"dataframe\">\n",
       "  <thead>\n",
       "    <tr style=\"text-align: right;\">\n",
       "      <th></th>\n",
       "      <th>totSellamnt</th>\n",
       "      <th>returnValue</th>\n",
       "      <th>drwNoDate</th>\n",
       "      <th>firstWinamnt</th>\n",
       "      <th>drwtNo6</th>\n",
       "      <th>drwtNo4</th>\n",
       "      <th>firstPrzwnerCo</th>\n",
       "      <th>drwtNo5</th>\n",
       "      <th>bnusNo</th>\n",
       "      <th>firstAccumamnt</th>\n",
       "      <th>drwNo</th>\n",
       "      <th>drwtNo2</th>\n",
       "      <th>drwtNo3</th>\n",
       "      <th>drwtNo1</th>\n",
       "    </tr>\n",
       "  </thead>\n",
       "  <tbody>\n",
       "    <tr>\n",
       "      <th>0</th>\n",
       "      <td>4904274000</td>\n",
       "      <td>success</td>\n",
       "      <td>2002-12-14</td>\n",
       "      <td>2002006800</td>\n",
       "      <td>42</td>\n",
       "      <td>25</td>\n",
       "      <td>1</td>\n",
       "      <td>32</td>\n",
       "      <td>2</td>\n",
       "      <td>0</td>\n",
       "      <td>2</td>\n",
       "      <td>13</td>\n",
       "      <td>21</td>\n",
       "      <td>9</td>\n",
       "    </tr>\n",
       "  </tbody>\n",
       "</table>\n",
       "</div>"
      ],
      "text/plain": [
       "   totSellamnt returnValue   drwNoDate  firstWinamnt  drwtNo6  drwtNo4  \\\n",
       "0   4904274000     success  2002-12-14    2002006800       42       25   \n",
       "\n",
       "   firstPrzwnerCo  drwtNo5  bnusNo  firstAccumamnt  drwNo  drwtNo2  drwtNo3  \\\n",
       "0               1       32       2               0      2       13       21   \n",
       "\n",
       "   drwtNo1  \n",
       "0        9  "
      ]
     },
     "execution_count": 30,
     "metadata": {},
     "output_type": "execute_result"
    }
   ],
   "source": [
    "# 2회차\n",
    "response2 = urlopen(\"https://www.dhlottery.co.kr/common.do?method=getLottoNumber&drwNo=2\")\n",
    "decode2 = response2.read().decode(\"utf-8\")\n",
    "data_json2 = json.loads(decode2)\n",
    "df2 = json_normalize(data_json2)\n",
    "df2"
   ]
  },
  {
   "cell_type": "code",
   "execution_count": 45,
   "metadata": {},
   "outputs": [
    {
     "data": {
      "text/html": [
       "<div>\n",
       "<style scoped>\n",
       "    .dataframe tbody tr th:only-of-type {\n",
       "        vertical-align: middle;\n",
       "    }\n",
       "\n",
       "    .dataframe tbody tr th {\n",
       "        vertical-align: top;\n",
       "    }\n",
       "\n",
       "    .dataframe thead th {\n",
       "        text-align: right;\n",
       "    }\n",
       "</style>\n",
       "<table border=\"1\" class=\"dataframe\">\n",
       "  <thead>\n",
       "    <tr style=\"text-align: right;\">\n",
       "      <th></th>\n",
       "      <th>totSellamnt</th>\n",
       "      <th>returnValue</th>\n",
       "      <th>drwNoDate</th>\n",
       "      <th>firstWinamnt</th>\n",
       "      <th>drwtNo6</th>\n",
       "      <th>drwtNo4</th>\n",
       "      <th>firstPrzwnerCo</th>\n",
       "      <th>drwtNo5</th>\n",
       "      <th>bnusNo</th>\n",
       "      <th>firstAccumamnt</th>\n",
       "      <th>drwNo</th>\n",
       "      <th>drwtNo2</th>\n",
       "      <th>drwtNo3</th>\n",
       "      <th>drwtNo1</th>\n",
       "    </tr>\n",
       "  </thead>\n",
       "  <tbody>\n",
       "    <tr>\n",
       "      <th>0</th>\n",
       "      <td>3681782000</td>\n",
       "      <td>success</td>\n",
       "      <td>2002-12-07</td>\n",
       "      <td>0</td>\n",
       "      <td>40</td>\n",
       "      <td>33</td>\n",
       "      <td>0</td>\n",
       "      <td>37</td>\n",
       "      <td>16</td>\n",
       "      <td>863604600</td>\n",
       "      <td>1</td>\n",
       "      <td>23</td>\n",
       "      <td>29</td>\n",
       "      <td>10</td>\n",
       "    </tr>\n",
       "    <tr>\n",
       "      <th>0</th>\n",
       "      <td>4904274000</td>\n",
       "      <td>success</td>\n",
       "      <td>2002-12-14</td>\n",
       "      <td>2002006800</td>\n",
       "      <td>42</td>\n",
       "      <td>25</td>\n",
       "      <td>1</td>\n",
       "      <td>32</td>\n",
       "      <td>2</td>\n",
       "      <td>0</td>\n",
       "      <td>2</td>\n",
       "      <td>13</td>\n",
       "      <td>21</td>\n",
       "      <td>9</td>\n",
       "    </tr>\n",
       "  </tbody>\n",
       "</table>\n",
       "</div>"
      ],
      "text/plain": [
       "   totSellamnt returnValue   drwNoDate  firstWinamnt  drwtNo6  drwtNo4  \\\n",
       "0   3681782000     success  2002-12-07             0       40       33   \n",
       "0   4904274000     success  2002-12-14    2002006800       42       25   \n",
       "\n",
       "   firstPrzwnerCo  drwtNo5  bnusNo  firstAccumamnt  drwNo  drwtNo2  drwtNo3  \\\n",
       "0               0       37      16       863604600      1       23       29   \n",
       "0               1       32       2               0      2       13       21   \n",
       "\n",
       "   drwtNo1  \n",
       "0       10  \n",
       "0        9  "
      ]
     },
     "execution_count": 45,
     "metadata": {},
     "output_type": "execute_result"
    }
   ],
   "source": [
    "dataframe = df.append(df2)\n",
    "dataframe"
   ]
  },
  {
   "cell_type": "code",
   "execution_count": 52,
   "metadata": {},
   "outputs": [
    {
     "data": {
      "text/plain": [
       "2"
      ]
     },
     "execution_count": 52,
     "metadata": {},
     "output_type": "execute_result"
    }
   ],
   "source": [
    "dataframe.drwNo.iloc[-1]"
   ]
  },
  {
   "cell_type": "code",
   "execution_count": null,
   "metadata": {},
   "outputs": [],
   "source": [
    "# 1회차부터 수집해 returnValue가 False일 때까지 수집해 DF으로 만들고 CSV로 저장\n",
    "def get_data():\n",
    "    cnt = 1\n",
    "    while data_json.returnValue == 'fail':\n",
    "        if cnt == 1:\n",
    "            response = urlopen(f\"https://www.dhlottery.co.kr/common.do?method=getLottoNumber&drwNo={cnt}\")\n",
    "            decode = response.read().decode(\"utf-8\")\n",
    "            data_json = json.loads(decode)\n",
    "            df = json_normalize(data_json)\n",
    "        else:\n",
    "            response = urlopen(f\"https://www.dhlottery.co.kr/common.do?method=getLottoNumber&drwNo={cnt}\")\n",
    "            decode = response.read().decode(\"utf-8\")\n",
    "            data_json = json.loads(decode)\n",
    "            data = json_normalize(data_json)\n",
    "            df.append(data)\n",
    "        cnt += 1\n",
    "    \n",
    "    return df\n",
    "\n",
    "# 매주 월요일, 전 주 결과를 추가해 분석하고 당첨번호를 예측해야함\n",
    "def add_data():\n",
    "    # 지정된 경로에 csv파일이 있다면?\n",
    "    csv_path = \"data/data.csv\"\n",
    "    if os.path.isfile(csv_path) == True:\n",
    "            df = pd.read_csv(csv_path)\n",
    "            last_drwNo = df.drwNo.iloc[-1] \n",
    "            while data_json.returnValue == 'fail':\n",
    "                response = urlopen(f\"https://www.dhlottery.co.kr/common.do?method=getLottoNumber&drwNo={last_drwNo}\")\n",
    "                decode = response.read().decode(\"utf-8\")\n",
    "                data_json = json.loads(decode)\n",
    "                data = json_normalize(data_json)\n",
    "                df.append(data)\n",
    "                last_drwNo += 1\n",
    "    df.to_csv(csv_path)\n",
    "    return df\n",
    "\n"
   ]
  }
 ],
 "metadata": {
  "kernelspec": {
   "display_name": "ML",
   "language": "python",
   "name": "python3"
  },
  "language_info": {
   "codemirror_mode": {
    "name": "ipython",
    "version": 3
   },
   "file_extension": ".py",
   "mimetype": "text/x-python",
   "name": "python",
   "nbconvert_exporter": "python",
   "pygments_lexer": "ipython3",
   "version": "3.9.7"
  },
  "orig_nbformat": 4,
  "vscode": {
   "interpreter": {
    "hash": "476a94dc85aeef50ce38d52ab019ae32fa2a67ff1ac8045d45d38aa23f62cc9d"
   }
  }
 },
 "nbformat": 4,
 "nbformat_minor": 2
}
